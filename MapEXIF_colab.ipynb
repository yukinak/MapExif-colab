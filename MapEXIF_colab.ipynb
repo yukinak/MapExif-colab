{
  "cells": [
    {
      "cell_type": "markdown",
      "metadata": {
        "id": "6_crycDGlI2V"
      },
      "source": [
        "# MapEXIF-Colab\n",
        "In Google Colab, read the EXIF information (GPS data) of images stored in a specific folder and visualize it on a map."
      ]
    },
    {
      "cell_type": "markdown",
      "metadata": {
        "id": "NgexBs6rmtdE"
      },
      "source": [
        "## Mount google drive\n",
        "Mount your Google Drive where the images taken with your smartphone are stored."
      ]
    },
    {
      "cell_type": "code",
      "execution_count": 1,
      "metadata": {
        "id": "ODKNVVmZk0wk",
        "colab": {
          "base_uri": "https://localhost:8080/"
        },
        "outputId": "8da29427-3aba-44f3-bbdd-388b5e1e5fdd"
      },
      "outputs": [
        {
          "output_type": "stream",
          "name": "stdout",
          "text": [
            "Mounted at /content/drive\n"
          ]
        }
      ],
      "source": [
        "from google.colab import drive\n",
        "drive.mount('/content/drive')"
      ]
    },
    {
      "cell_type": "markdown",
      "source": [
        "# Set the Google Drive directory path\n",
        "\n",
        "Specify the Google Drive directory path where your images are stored. In the example below, the path points to a folder named `example_dataset` inside `MyDrive`."
      ],
      "metadata": {
        "id": "eK7dIV1ioIl0"
      }
    },
    {
      "cell_type": "code",
      "source": [
        "# Set the Google Drive directory path\n",
        "img_directory = '/content/drive/MyDrive/example_dataset/'"
      ],
      "metadata": {
        "id": "wIeoq8ecoBeA"
      },
      "execution_count": 2,
      "outputs": []
    },
    {
      "cell_type": "markdown",
      "source": [
        "## Install Folium＆Exifread\n",
        "Install the two required libraries.\n",
        "\n",
        "- [Folium](https://github.com/python-visualization/folium) is a Python library that makes it easy to create interactive maps using Leaflet.js, enabling visualization of geospatial data directly in Python notebooks.\n",
        "- [Exifread](https://pypi.org/project/ExifRead/) is a Python library for extracting EXIF metadata, including GPS information, from image files."
      ],
      "metadata": {
        "id": "X6RUgq8mPHbH"
      }
    },
    {
      "cell_type": "code",
      "execution_count": 3,
      "metadata": {
        "colab": {
          "base_uri": "https://localhost:8080/"
        },
        "id": "Z6dBvIpblYi0",
        "outputId": "09c63128-2a95-441a-b57e-473e0b339b58"
      },
      "outputs": [
        {
          "output_type": "stream",
          "name": "stdout",
          "text": [
            "Requirement already satisfied: folium in /usr/local/lib/python3.12/dist-packages (0.20.0)\n",
            "Requirement already satisfied: branca>=0.6.0 in /usr/local/lib/python3.12/dist-packages (from folium) (0.8.1)\n",
            "Requirement already satisfied: jinja2>=2.9 in /usr/local/lib/python3.12/dist-packages (from folium) (3.1.6)\n",
            "Requirement already satisfied: numpy in /usr/local/lib/python3.12/dist-packages (from folium) (2.0.2)\n",
            "Requirement already satisfied: requests in /usr/local/lib/python3.12/dist-packages (from folium) (2.32.4)\n",
            "Requirement already satisfied: xyzservices in /usr/local/lib/python3.12/dist-packages (from folium) (2025.4.0)\n",
            "Requirement already satisfied: MarkupSafe>=2.0 in /usr/local/lib/python3.12/dist-packages (from jinja2>=2.9->folium) (3.0.2)\n",
            "Requirement already satisfied: charset_normalizer<4,>=2 in /usr/local/lib/python3.12/dist-packages (from requests->folium) (3.4.3)\n",
            "Requirement already satisfied: idna<4,>=2.5 in /usr/local/lib/python3.12/dist-packages (from requests->folium) (3.10)\n",
            "Requirement already satisfied: urllib3<3,>=1.21.1 in /usr/local/lib/python3.12/dist-packages (from requests->folium) (2.5.0)\n",
            "Requirement already satisfied: certifi>=2017.4.17 in /usr/local/lib/python3.12/dist-packages (from requests->folium) (2025.8.3)\n",
            "Collecting exifread\n",
            "  Downloading exifread-3.5.1-py3-none-any.whl.metadata (10 kB)\n",
            "Downloading exifread-3.5.1-py3-none-any.whl (59 kB)\n",
            "\u001b[2K   \u001b[90m━━━━━━━━━━━━━━━━━━━━━━━━━━━━━━━━━━━━━━━━\u001b[0m \u001b[32m59.7/59.7 kB\u001b[0m \u001b[31m3.3 MB/s\u001b[0m eta \u001b[36m0:00:00\u001b[0m\n",
            "\u001b[?25hInstalling collected packages: exifread\n",
            "Successfully installed exifread-3.5.1\n"
          ]
        }
      ],
      "source": [
        "\n",
        "!pip install folium\n",
        "!pip install exifread"
      ]
    },
    {
      "cell_type": "markdown",
      "source": [
        "## Defining the required Python functions\n",
        "\n",
        "The following Python functions are defined to extract GPS information (latitude, longitude, and altitude) from the EXIF data of images taken with your smartphone."
      ],
      "metadata": {
        "id": "Jl--R1DXpnIb"
      }
    },
    {
      "cell_type": "code",
      "source": [
        "import exifread\n",
        "\n",
        "def read_exif_from_image(image_path):\n",
        "    \"\"\"Read EXIF data from an image file\"\"\"\n",
        "    try:\n",
        "        with open(image_path, \"rb\") as f:\n",
        "            exif_data = exifread.process_file(f)\n",
        "        return exif_data\n",
        "    except FileNotFoundError:\n",
        "        print(f\"File not found: {image_path}\")\n",
        "        return None\n",
        "    except IOError:\n",
        "        print(f\"Failed to read file: {image_path}\")\n",
        "        return None\n",
        "\n",
        "\n",
        "def dms_to_decimal(dms):\n",
        "    \"\"\"Convert a Degree-Minute-Second (DMS) list to decimal coordinates\"\"\"\n",
        "    degrees, minutes, seconds = dms\n",
        "    return degrees + (minutes / 60) + (seconds / 3600)\n",
        "\n",
        "\n",
        "def get_coordinates(exif_data):\n",
        "    \"\"\"Extract latitude and longitude from EXIF tags and return them as a tuple\"\"\"\n",
        "    try:\n",
        "        pre_latitude = eval(exif_data[\"GPS GPSLatitude\"].printable)\n",
        "        pre_longitude = eval(exif_data[\"GPS GPSLongitude\"].printable)\n",
        "        latitude = dms_to_decimal(pre_latitude)\n",
        "        longitude = -1 * dms_to_decimal(pre_longitude)\n",
        "        return (latitude, longitude)\n",
        "    except KeyError:\n",
        "        print(\"Required GPS information is missing.\")\n",
        "        return None"
      ],
      "metadata": {
        "id": "p8lDRuqRnTnd"
      },
      "execution_count": 4,
      "outputs": []
    },
    {
      "cell_type": "markdown",
      "source": [
        "## Visualizing GPS Coordinates from HEIC Images\n",
        "\n",
        "This Colab snippet extracts GPS coordinates from HEIC images in a specified directory and visualizes them on an interactive map using Folium."
      ],
      "metadata": {
        "id": "kLWL4EiP2QD6"
      }
    },
    {
      "cell_type": "code",
      "source": [
        "import folium\n",
        "import glob\n",
        "import os\n",
        "\n",
        "# Create a map with folium.Map() by specifying the center coordinates and zoom level\n",
        "newmap = folium.Map(location=[37.8, -122.4], zoom_start=8)\n",
        "\n",
        "# Extract GPS coordinates from HEIC images in the directory\n",
        "for image_path in sorted(\n",
        "    glob.glob(os.path.join(img_directory, '*.HEIC'))):\n",
        "    exif_data = read_exif_from_image(image_path)\n",
        "    if exif_data:\n",
        "        coordinates = get_coordinates(exif_data)\n",
        "        if coordinates:\n",
        "            folium.Marker(location=(coordinates[0], coordinates[1]), popup=image_path).add_to(newmap)\n",
        "        else:\n",
        "            print(\"Failed to obtain GPS information.\")\n",
        "    else:\n",
        "        print(\"Failed to read EXIF data.\")\n",
        "\n",
        "# Visualize a map with GPS coordinates\n",
        "newmap"
      ],
      "metadata": {
        "colab": {
          "base_uri": "https://localhost:8080/",
          "height": 683
        },
        "id": "Vpxr6dhGrDJM",
        "outputId": "43f4c8fd-e915-4b6a-b367-d8f165ca7a7c"
      },
      "execution_count": 15,
      "outputs": [
        {
          "output_type": "execute_result",
          "data": {
            "text/plain": [
              "<folium.folium.Map at 0x7b98decb6090>"
            ],
            "text/html": [
              "<div style=\"width:100%;\"><div style=\"position:relative;width:100%;height:0;padding-bottom:60%;\"><span style=\"color:#565656\">Make this Notebook Trusted to load map: File -> Trust Notebook</span><iframe srcdoc=\"&lt;!DOCTYPE html&gt;\n",
              "&lt;html&gt;\n",
              "&lt;head&gt;\n",
              "    \n",
              "    &lt;meta http-equiv=&quot;content-type&quot; content=&quot;text/html; charset=UTF-8&quot; /&gt;\n",
              "    &lt;script src=&quot;https://cdn.jsdelivr.net/npm/leaflet@1.9.3/dist/leaflet.js&quot;&gt;&lt;/script&gt;\n",
              "    &lt;script src=&quot;https://code.jquery.com/jquery-3.7.1.min.js&quot;&gt;&lt;/script&gt;\n",
              "    &lt;script src=&quot;https://cdn.jsdelivr.net/npm/bootstrap@5.2.2/dist/js/bootstrap.bundle.min.js&quot;&gt;&lt;/script&gt;\n",
              "    &lt;script src=&quot;https://cdnjs.cloudflare.com/ajax/libs/Leaflet.awesome-markers/2.0.2/leaflet.awesome-markers.js&quot;&gt;&lt;/script&gt;\n",
              "    &lt;link rel=&quot;stylesheet&quot; href=&quot;https://cdn.jsdelivr.net/npm/leaflet@1.9.3/dist/leaflet.css&quot;/&gt;\n",
              "    &lt;link rel=&quot;stylesheet&quot; href=&quot;https://cdn.jsdelivr.net/npm/bootstrap@5.2.2/dist/css/bootstrap.min.css&quot;/&gt;\n",
              "    &lt;link rel=&quot;stylesheet&quot; href=&quot;https://netdna.bootstrapcdn.com/bootstrap/3.0.0/css/bootstrap-glyphicons.css&quot;/&gt;\n",
              "    &lt;link rel=&quot;stylesheet&quot; href=&quot;https://cdn.jsdelivr.net/npm/@fortawesome/fontawesome-free@6.2.0/css/all.min.css&quot;/&gt;\n",
              "    &lt;link rel=&quot;stylesheet&quot; href=&quot;https://cdnjs.cloudflare.com/ajax/libs/Leaflet.awesome-markers/2.0.2/leaflet.awesome-markers.css&quot;/&gt;\n",
              "    &lt;link rel=&quot;stylesheet&quot; href=&quot;https://cdn.jsdelivr.net/gh/python-visualization/folium/folium/templates/leaflet.awesome.rotate.min.css&quot;/&gt;\n",
              "    \n",
              "            &lt;meta name=&quot;viewport&quot; content=&quot;width=device-width,\n",
              "                initial-scale=1.0, maximum-scale=1.0, user-scalable=no&quot; /&gt;\n",
              "            &lt;style&gt;\n",
              "                #map_20c82a8e747420707ec105f62ef45cbf {\n",
              "                    position: relative;\n",
              "                    width: 100.0%;\n",
              "                    height: 100.0%;\n",
              "                    left: 0.0%;\n",
              "                    top: 0.0%;\n",
              "                }\n",
              "                .leaflet-container { font-size: 1rem; }\n",
              "            &lt;/style&gt;\n",
              "\n",
              "            &lt;style&gt;html, body {\n",
              "                width: 100%;\n",
              "                height: 100%;\n",
              "                margin: 0;\n",
              "                padding: 0;\n",
              "            }\n",
              "            &lt;/style&gt;\n",
              "\n",
              "            &lt;style&gt;#map {\n",
              "                position:absolute;\n",
              "                top:0;\n",
              "                bottom:0;\n",
              "                right:0;\n",
              "                left:0;\n",
              "                }\n",
              "            &lt;/style&gt;\n",
              "\n",
              "            &lt;script&gt;\n",
              "                L_NO_TOUCH = false;\n",
              "                L_DISABLE_3D = false;\n",
              "            &lt;/script&gt;\n",
              "\n",
              "        \n",
              "&lt;/head&gt;\n",
              "&lt;body&gt;\n",
              "    \n",
              "    \n",
              "            &lt;div class=&quot;folium-map&quot; id=&quot;map_20c82a8e747420707ec105f62ef45cbf&quot; &gt;&lt;/div&gt;\n",
              "        \n",
              "&lt;/body&gt;\n",
              "&lt;script&gt;\n",
              "    \n",
              "    \n",
              "            var map_20c82a8e747420707ec105f62ef45cbf = L.map(\n",
              "                &quot;map_20c82a8e747420707ec105f62ef45cbf&quot;,\n",
              "                {\n",
              "                    center: [37.8, -122.4],\n",
              "                    crs: L.CRS.EPSG3857,\n",
              "                    ...{\n",
              "  &quot;zoom&quot;: 8,\n",
              "  &quot;zoomControl&quot;: true,\n",
              "  &quot;preferCanvas&quot;: false,\n",
              "}\n",
              "\n",
              "                }\n",
              "            );\n",
              "\n",
              "            \n",
              "\n",
              "        \n",
              "    \n",
              "            var tile_layer_ec70ad234c3ad303cb6cfbbc13e9ba50 = L.tileLayer(\n",
              "                &quot;https://tile.openstreetmap.org/{z}/{x}/{y}.png&quot;,\n",
              "                {\n",
              "  &quot;minZoom&quot;: 0,\n",
              "  &quot;maxZoom&quot;: 19,\n",
              "  &quot;maxNativeZoom&quot;: 19,\n",
              "  &quot;noWrap&quot;: false,\n",
              "  &quot;attribution&quot;: &quot;\\u0026copy; \\u003ca href=\\&quot;https://www.openstreetmap.org/copyright\\&quot;\\u003eOpenStreetMap\\u003c/a\\u003e contributors&quot;,\n",
              "  &quot;subdomains&quot;: &quot;abc&quot;,\n",
              "  &quot;detectRetina&quot;: false,\n",
              "  &quot;tms&quot;: false,\n",
              "  &quot;opacity&quot;: 1,\n",
              "}\n",
              "\n",
              "            );\n",
              "        \n",
              "    \n",
              "            tile_layer_ec70ad234c3ad303cb6cfbbc13e9ba50.addTo(map_20c82a8e747420707ec105f62ef45cbf);\n",
              "        \n",
              "    \n",
              "            var marker_d8aaa0ece5a41bf29d6f912028374c74 = L.marker(\n",
              "                [37.382275, -121.9739388888889],\n",
              "                {\n",
              "}\n",
              "            ).addTo(map_20c82a8e747420707ec105f62ef45cbf);\n",
              "        \n",
              "    \n",
              "        var popup_25af6ab60c4e71bd826e7cd76ff3960f = L.popup({\n",
              "  &quot;maxWidth&quot;: &quot;100%&quot;,\n",
              "});\n",
              "\n",
              "        \n",
              "            \n",
              "                var html_d5edbb46574029c6595c136563bbc94c = $(`&lt;div id=&quot;html_d5edbb46574029c6595c136563bbc94c&quot; style=&quot;width: 100.0%; height: 100.0%;&quot;&gt;/content/drive/MyDrive/example_dataset/IMG_0172.HEIC&lt;/div&gt;`)[0];\n",
              "                popup_25af6ab60c4e71bd826e7cd76ff3960f.setContent(html_d5edbb46574029c6595c136563bbc94c);\n",
              "            \n",
              "        \n",
              "\n",
              "        marker_d8aaa0ece5a41bf29d6f912028374c74.bindPopup(popup_25af6ab60c4e71bd826e7cd76ff3960f)\n",
              "        ;\n",
              "\n",
              "        \n",
              "    \n",
              "    \n",
              "            var marker_83dda05078ce04c351ee599e5884623d = L.marker(\n",
              "                [37.42997777777777, -122.16938888888889],\n",
              "                {\n",
              "}\n",
              "            ).addTo(map_20c82a8e747420707ec105f62ef45cbf);\n",
              "        \n",
              "    \n",
              "        var popup_e32c6371a5043631f0284d462be5bac0 = L.popup({\n",
              "  &quot;maxWidth&quot;: &quot;100%&quot;,\n",
              "});\n",
              "\n",
              "        \n",
              "            \n",
              "                var html_587d60ce9107494b19531eb94701cc57 = $(`&lt;div id=&quot;html_587d60ce9107494b19531eb94701cc57&quot; style=&quot;width: 100.0%; height: 100.0%;&quot;&gt;/content/drive/MyDrive/example_dataset/IMG_3095.HEIC&lt;/div&gt;`)[0];\n",
              "                popup_e32c6371a5043631f0284d462be5bac0.setContent(html_587d60ce9107494b19531eb94701cc57);\n",
              "            \n",
              "        \n",
              "\n",
              "        marker_83dda05078ce04c351ee599e5884623d.bindPopup(popup_e32c6371a5043631f0284d462be5bac0)\n",
              "        ;\n",
              "\n",
              "        \n",
              "    \n",
              "    \n",
              "            var marker_2d68bb8cd6dee73ccaaf7f791fea35a2 = L.marker(\n",
              "                [38.54602777777777, -122.49227777777777],\n",
              "                {\n",
              "}\n",
              "            ).addTo(map_20c82a8e747420707ec105f62ef45cbf);\n",
              "        \n",
              "    \n",
              "        var popup_096d383cf0c8e829244017fcc5124a26 = L.popup({\n",
              "  &quot;maxWidth&quot;: &quot;100%&quot;,\n",
              "});\n",
              "\n",
              "        \n",
              "            \n",
              "                var html_7e0675090a50bb27b5197bf279a6a7d4 = $(`&lt;div id=&quot;html_7e0675090a50bb27b5197bf279a6a7d4&quot; style=&quot;width: 100.0%; height: 100.0%;&quot;&gt;/content/drive/MyDrive/example_dataset/IMG_3167.HEIC&lt;/div&gt;`)[0];\n",
              "                popup_096d383cf0c8e829244017fcc5124a26.setContent(html_7e0675090a50bb27b5197bf279a6a7d4);\n",
              "            \n",
              "        \n",
              "\n",
              "        marker_2d68bb8cd6dee73ccaaf7f791fea35a2.bindPopup(popup_096d383cf0c8e829244017fcc5124a26)\n",
              "        ;\n",
              "\n",
              "        \n",
              "    \n",
              "    \n",
              "            var marker_b4907b03bcb10f56c9a401e8fc254a6d = L.marker(\n",
              "                [37.810827777777774, -122.411575],\n",
              "                {\n",
              "}\n",
              "            ).addTo(map_20c82a8e747420707ec105f62ef45cbf);\n",
              "        \n",
              "    \n",
              "        var popup_958c9820658e47cf2f9e9c5a46a05bf8 = L.popup({\n",
              "  &quot;maxWidth&quot;: &quot;100%&quot;,\n",
              "});\n",
              "\n",
              "        \n",
              "            \n",
              "                var html_46fe3a984798889e1400cc4c928b2094 = $(`&lt;div id=&quot;html_46fe3a984798889e1400cc4c928b2094&quot; style=&quot;width: 100.0%; height: 100.0%;&quot;&gt;/content/drive/MyDrive/example_dataset/IMG_3234.HEIC&lt;/div&gt;`)[0];\n",
              "                popup_958c9820658e47cf2f9e9c5a46a05bf8.setContent(html_46fe3a984798889e1400cc4c928b2094);\n",
              "            \n",
              "        \n",
              "\n",
              "        marker_b4907b03bcb10f56c9a401e8fc254a6d.bindPopup(popup_958c9820658e47cf2f9e9c5a46a05bf8)\n",
              "        ;\n",
              "\n",
              "        \n",
              "    \n",
              "&lt;/script&gt;\n",
              "&lt;/html&gt;\" style=\"position:absolute;width:100%;height:100%;left:0;top:0;border:none !important;\" allowfullscreen webkitallowfullscreen mozallowfullscreen></iframe></div></div>"
            ]
          },
          "metadata": {},
          "execution_count": 15
        }
      ]
    }
  ],
  "metadata": {
    "colab": {
      "provenance": []
    },
    "kernelspec": {
      "display_name": "Python 3",
      "name": "python3"
    },
    "language_info": {
      "name": "python"
    }
  },
  "nbformat": 4,
  "nbformat_minor": 0
}