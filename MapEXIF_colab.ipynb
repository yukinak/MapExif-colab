{
  "cells": [
    {
      "cell_type": "markdown",
      "metadata": {
        "id": "6_crycDGlI2V"
      },
      "source": [
        "# MapEXIF-Colab\n",
        "In Google Colab, read the EXIF information (GPS data) of images stored in a specific folder and visualize it on a map."
      ]
    },
    {
      "cell_type": "markdown",
      "metadata": {
        "id": "NgexBs6rmtdE"
      },
      "source": [
        "## Mount google drive\n",
        "Mount your Google Drive where the images taken with your smartphone are stored."
      ]
    },
    {
      "cell_type": "code",
      "execution_count": 1,
      "metadata": {
        "id": "ODKNVVmZk0wk",
        "colab": {
          "base_uri": "https://localhost:8080/"
        },
        "outputId": "1502ec04-f9a3-459f-94e8-254e62184b34"
      },
      "outputs": [
        {
          "output_type": "stream",
          "name": "stdout",
          "text": [
            "Mounted at /content/drive\n"
          ]
        }
      ],
      "source": [
        "from google.colab import drive\n",
        "drive.mount('/content/drive')"
      ]
    },
    {
      "cell_type": "markdown",
      "source": [
        "# Set the Google Drive directory path\n",
        "\n",
        "Specify the Google Drive directory path where your images are stored. In the example below, the path points to a folder named `example_dataset` inside `MyDrive`."
      ],
      "metadata": {
        "id": "eK7dIV1ioIl0"
      }
    },
    {
      "cell_type": "code",
      "source": [
        "# Set the Google Drive directory path\n",
        "img_directory = '/content/drive/MyDrive/example_dataset/'"
      ],
      "metadata": {
        "id": "wIeoq8ecoBeA"
      },
      "execution_count": 2,
      "outputs": []
    },
    {
      "cell_type": "markdown",
      "source": [
        "## Install Folium＆Exifread\n",
        "Install the two required libraries.\n",
        "\n",
        "- [Folium](https://github.com/python-visualization/folium) is a Python library that makes it easy to create interactive maps using Leaflet.js, enabling visualization of geospatial data directly in Python notebooks.\n",
        "- [Exifread](https://pypi.org/project/ExifRead/) is a Python library for extracting EXIF metadata, including GPS information, from image files."
      ],
      "metadata": {
        "id": "X6RUgq8mPHbH"
      }
    },
    {
      "cell_type": "code",
      "execution_count": 3,
      "metadata": {
        "colab": {
          "base_uri": "https://localhost:8080/"
        },
        "id": "Z6dBvIpblYi0",
        "outputId": "d39a3931-6137-4f58-bcbf-eb8c0d39bcd4"
      },
      "outputs": [
        {
          "output_type": "stream",
          "name": "stdout",
          "text": [
            "Requirement already satisfied: folium in /usr/local/lib/python3.12/dist-packages (0.20.0)\n",
            "Requirement already satisfied: branca>=0.6.0 in /usr/local/lib/python3.12/dist-packages (from folium) (0.8.1)\n",
            "Requirement already satisfied: jinja2>=2.9 in /usr/local/lib/python3.12/dist-packages (from folium) (3.1.6)\n",
            "Requirement already satisfied: numpy in /usr/local/lib/python3.12/dist-packages (from folium) (2.0.2)\n",
            "Requirement already satisfied: requests in /usr/local/lib/python3.12/dist-packages (from folium) (2.32.4)\n",
            "Requirement already satisfied: xyzservices in /usr/local/lib/python3.12/dist-packages (from folium) (2025.4.0)\n",
            "Requirement already satisfied: MarkupSafe>=2.0 in /usr/local/lib/python3.12/dist-packages (from jinja2>=2.9->folium) (3.0.2)\n",
            "Requirement already satisfied: charset_normalizer<4,>=2 in /usr/local/lib/python3.12/dist-packages (from requests->folium) (3.4.3)\n",
            "Requirement already satisfied: idna<4,>=2.5 in /usr/local/lib/python3.12/dist-packages (from requests->folium) (3.10)\n",
            "Requirement already satisfied: urllib3<3,>=1.21.1 in /usr/local/lib/python3.12/dist-packages (from requests->folium) (2.5.0)\n",
            "Requirement already satisfied: certifi>=2017.4.17 in /usr/local/lib/python3.12/dist-packages (from requests->folium) (2025.8.3)\n",
            "Collecting exifread\n",
            "  Downloading exifread-3.5.1-py3-none-any.whl.metadata (10 kB)\n",
            "Downloading exifread-3.5.1-py3-none-any.whl (59 kB)\n",
            "\u001b[2K   \u001b[90m━━━━━━━━━━━━━━━━━━━━━━━━━━━━━━━━━━━━━━━━\u001b[0m \u001b[32m59.7/59.7 kB\u001b[0m \u001b[31m5.5 MB/s\u001b[0m eta \u001b[36m0:00:00\u001b[0m\n",
            "\u001b[?25hInstalling collected packages: exifread\n",
            "Successfully installed exifread-3.5.1\n"
          ]
        }
      ],
      "source": [
        "\n",
        "!pip install folium\n",
        "!pip install exifread"
      ]
    },
    {
      "cell_type": "markdown",
      "source": [
        "## Defining the required Python functions\n",
        "\n",
        "The following Python functions are defined to extract GPS information (latitude, longitude, and altitude) from the EXIF data of images taken with your smartphone."
      ],
      "metadata": {
        "id": "Jl--R1DXpnIb"
      }
    },
    {
      "cell_type": "code",
      "source": [
        "import exifread\n",
        "\n",
        "def read_exif_from_image(image_path):\n",
        "    \"\"\"Read EXIF data from an image file\"\"\"\n",
        "    try:\n",
        "        with open(image_path, \"rb\") as f:\n",
        "            exif_data = exifread.process_file(f)\n",
        "        return exif_data\n",
        "    except FileNotFoundError:\n",
        "        print(f\"File not found: {image_path}\")\n",
        "        return None\n",
        "    except IOError:\n",
        "        print(f\"Failed to read file: {image_path}\")\n",
        "        return None\n",
        "\n",
        "\n",
        "def dms_to_decimal(dms):\n",
        "    \"\"\"Convert a Degree-Minute-Second (DMS) list to decimal coordinates\"\"\"\n",
        "    degrees, minutes, seconds = dms\n",
        "    return degrees + (minutes / 60) + (seconds / 3600)\n",
        "\n",
        "\n",
        "def get_coordinates(exif_data):\n",
        "    \"\"\"Extract latitude and longitude from EXIF tags and return them as a tuple\"\"\"\n",
        "    try:\n",
        "        pre_latitude = eval(exif_data[\"GPS GPSLatitude\"].printable)\n",
        "        pre_longitude = eval(exif_data[\"GPS GPSLongitude\"].printable)\n",
        "        latitude = dms_to_decimal(pre_latitude)\n",
        "        longitude = -1 * dms_to_decimal(pre_longitude)\n",
        "        return (latitude, longitude)\n",
        "    except KeyError:\n",
        "        print(\"Required GPS information is missing.\")\n",
        "        return None"
      ],
      "metadata": {
        "id": "p8lDRuqRnTnd"
      },
      "execution_count": 4,
      "outputs": []
    },
    {
      "cell_type": "markdown",
      "source": [
        "## Reading EXIF Data and Collecting GPS Information\n",
        "\n",
        "This part of the code scans through all **HEIC images** in the specified Google Drive directory and attempts to read their EXIF metadata.  \n",
        "For each image, the following information is extracted:  \n",
        "\n",
        "- **File name** (without extension)  \n",
        "- **GPS coordinates** (latitude and longitude)  \n",
        "\n",
        "The extracted values are appended to separate lists (`name_list`, `location_list`) for later processing.  \n",
        "\n",
        "If EXIF data cannot be read or GPS information is missing, the script prints a warning message instead of storing the data."
      ],
      "metadata": {
        "id": "qHqXiIA8rW_2"
      }
    },
    {
      "cell_type": "code",
      "source": [
        "import glob\n",
        "import os\n",
        "\n",
        "# Extract GPS coordinates from HEIC images in the directory\n",
        "name_list = []\n",
        "location_list = []\n",
        "for image_path in sorted(\n",
        "    glob.glob(os.path.join(img_directory, '*.HEIC'))):\n",
        "\n",
        "    exif_data = read_exif_from_image(image_path)\n",
        "    if exif_data:\n",
        "        coordinates = get_coordinates(exif_data)\n",
        "        if coordinates:\n",
        "            basename_without_ext = os.path.splitext(os.path.basename(image_path))[0]\n",
        "            location_list.append(coordinates)\n",
        "            name_list.append(basename_without_ext)\n",
        "        else:\n",
        "            print(\"Failed to retrieve GPS information.\")\n",
        "    else:\n",
        "        print(\"Failed to read EXIF data.\")"
      ],
      "metadata": {
        "id": "TD8gwnqyRNnH"
      },
      "execution_count": 5,
      "outputs": []
    },
    {
      "cell_type": "markdown",
      "source": [
        "## Visualizing GPS Coordinates from HEIC Images\n",
        "\n",
        "This Colab snippet extracts GPS coordinates from HEIC images in a specified directory and visualizes them on an interactive map using Folium."
      ],
      "metadata": {
        "id": "kLWL4EiP2QD6"
      }
    },
    {
      "cell_type": "code",
      "source": [
        "import folium\n",
        "import glob\n",
        "import os\n",
        "\n",
        "# Create a map with folium.Map() by specifying the center coordinates and zoom level\n",
        "newmap = folium.Map(location=[37.8, -122.4], zoom_start=8)\n",
        "\n",
        "# Extract GPS coordinates from HEIC images in the directory\n",
        "for image_path in sorted(\n",
        "    glob.glob(os.path.join(img_directory, '*.HEIC'))):\n",
        "    exif_data = read_exif_from_image(image_path)\n",
        "    if exif_data:\n",
        "        coordinates = get_coordinates(exif_data)\n",
        "        if coordinates:\n",
        "            folium.Marker(location=(coordinates[0], coordinates[1]), popup=image_path).add_to(newmap)\n",
        "        else:\n",
        "            print(\"Failed to obtain GPS information.\")\n",
        "    else:\n",
        "        print(\"Failed to read EXIF data.\")\n",
        "\n",
        "# Visualize a map with GPS coordinates\n",
        "newmap"
      ],
      "metadata": {
        "colab": {
          "base_uri": "https://localhost:8080/",
          "height": 804
        },
        "id": "Vpxr6dhGrDJM",
        "outputId": "7d697e3e-dbbc-4ad1-a8f2-ea7e1c67b826"
      },
      "execution_count": 20,
      "outputs": [
        {
          "output_type": "execute_result",
          "data": {
            "text/plain": [
              "<folium.folium.Map at 0x799c6b644b60>"
            ],
            "text/html": [
              "<div style=\"width:100%;\"><div style=\"position:relative;width:100%;height:0;padding-bottom:60%;\"><span style=\"color:#565656\">Make this Notebook Trusted to load map: File -> Trust Notebook</span><iframe srcdoc=\"&lt;!DOCTYPE html&gt;\n",
              "&lt;html&gt;\n",
              "&lt;head&gt;\n",
              "    \n",
              "    &lt;meta http-equiv=&quot;content-type&quot; content=&quot;text/html; charset=UTF-8&quot; /&gt;\n",
              "    &lt;script src=&quot;https://cdn.jsdelivr.net/npm/leaflet@1.9.3/dist/leaflet.js&quot;&gt;&lt;/script&gt;\n",
              "    &lt;script src=&quot;https://code.jquery.com/jquery-3.7.1.min.js&quot;&gt;&lt;/script&gt;\n",
              "    &lt;script src=&quot;https://cdn.jsdelivr.net/npm/bootstrap@5.2.2/dist/js/bootstrap.bundle.min.js&quot;&gt;&lt;/script&gt;\n",
              "    &lt;script src=&quot;https://cdnjs.cloudflare.com/ajax/libs/Leaflet.awesome-markers/2.0.2/leaflet.awesome-markers.js&quot;&gt;&lt;/script&gt;\n",
              "    &lt;link rel=&quot;stylesheet&quot; href=&quot;https://cdn.jsdelivr.net/npm/leaflet@1.9.3/dist/leaflet.css&quot;/&gt;\n",
              "    &lt;link rel=&quot;stylesheet&quot; href=&quot;https://cdn.jsdelivr.net/npm/bootstrap@5.2.2/dist/css/bootstrap.min.css&quot;/&gt;\n",
              "    &lt;link rel=&quot;stylesheet&quot; href=&quot;https://netdna.bootstrapcdn.com/bootstrap/3.0.0/css/bootstrap-glyphicons.css&quot;/&gt;\n",
              "    &lt;link rel=&quot;stylesheet&quot; href=&quot;https://cdn.jsdelivr.net/npm/@fortawesome/fontawesome-free@6.2.0/css/all.min.css&quot;/&gt;\n",
              "    &lt;link rel=&quot;stylesheet&quot; href=&quot;https://cdnjs.cloudflare.com/ajax/libs/Leaflet.awesome-markers/2.0.2/leaflet.awesome-markers.css&quot;/&gt;\n",
              "    &lt;link rel=&quot;stylesheet&quot; href=&quot;https://cdn.jsdelivr.net/gh/python-visualization/folium/folium/templates/leaflet.awesome.rotate.min.css&quot;/&gt;\n",
              "    \n",
              "            &lt;meta name=&quot;viewport&quot; content=&quot;width=device-width,\n",
              "                initial-scale=1.0, maximum-scale=1.0, user-scalable=no&quot; /&gt;\n",
              "            &lt;style&gt;\n",
              "                #map_dce47e1ed5d293c6678f58d0a2182ac2 {\n",
              "                    position: relative;\n",
              "                    width: 100.0%;\n",
              "                    height: 100.0%;\n",
              "                    left: 0.0%;\n",
              "                    top: 0.0%;\n",
              "                }\n",
              "                .leaflet-container { font-size: 1rem; }\n",
              "            &lt;/style&gt;\n",
              "\n",
              "            &lt;style&gt;html, body {\n",
              "                width: 100%;\n",
              "                height: 100%;\n",
              "                margin: 0;\n",
              "                padding: 0;\n",
              "            }\n",
              "            &lt;/style&gt;\n",
              "\n",
              "            &lt;style&gt;#map {\n",
              "                position:absolute;\n",
              "                top:0;\n",
              "                bottom:0;\n",
              "                right:0;\n",
              "                left:0;\n",
              "                }\n",
              "            &lt;/style&gt;\n",
              "\n",
              "            &lt;script&gt;\n",
              "                L_NO_TOUCH = false;\n",
              "                L_DISABLE_3D = false;\n",
              "            &lt;/script&gt;\n",
              "\n",
              "        \n",
              "&lt;/head&gt;\n",
              "&lt;body&gt;\n",
              "    \n",
              "    \n",
              "            &lt;div class=&quot;folium-map&quot; id=&quot;map_dce47e1ed5d293c6678f58d0a2182ac2&quot; &gt;&lt;/div&gt;\n",
              "        \n",
              "&lt;/body&gt;\n",
              "&lt;script&gt;\n",
              "    \n",
              "    \n",
              "            var map_dce47e1ed5d293c6678f58d0a2182ac2 = L.map(\n",
              "                &quot;map_dce47e1ed5d293c6678f58d0a2182ac2&quot;,\n",
              "                {\n",
              "                    center: [37.8, -122.4],\n",
              "                    crs: L.CRS.EPSG3857,\n",
              "                    ...{\n",
              "  &quot;zoom&quot;: 8,\n",
              "  &quot;zoomControl&quot;: true,\n",
              "  &quot;preferCanvas&quot;: false,\n",
              "}\n",
              "\n",
              "                }\n",
              "            );\n",
              "\n",
              "            \n",
              "\n",
              "        \n",
              "    \n",
              "            var tile_layer_e5a6ac9f8f0cfae0bf7ecce763aea1e1 = L.tileLayer(\n",
              "                &quot;https://tile.openstreetmap.org/{z}/{x}/{y}.png&quot;,\n",
              "                {\n",
              "  &quot;minZoom&quot;: 0,\n",
              "  &quot;maxZoom&quot;: 19,\n",
              "  &quot;maxNativeZoom&quot;: 19,\n",
              "  &quot;noWrap&quot;: false,\n",
              "  &quot;attribution&quot;: &quot;\\u0026copy; \\u003ca href=\\&quot;https://www.openstreetmap.org/copyright\\&quot;\\u003eOpenStreetMap\\u003c/a\\u003e contributors&quot;,\n",
              "  &quot;subdomains&quot;: &quot;abc&quot;,\n",
              "  &quot;detectRetina&quot;: false,\n",
              "  &quot;tms&quot;: false,\n",
              "  &quot;opacity&quot;: 1,\n",
              "}\n",
              "\n",
              "            );\n",
              "        \n",
              "    \n",
              "            tile_layer_e5a6ac9f8f0cfae0bf7ecce763aea1e1.addTo(map_dce47e1ed5d293c6678f58d0a2182ac2);\n",
              "        \n",
              "    \n",
              "            var marker_ed843c74c19c2b50685b25f2f1f260ff = L.marker(\n",
              "                [37.382275, -121.9739388888889],\n",
              "                {\n",
              "}\n",
              "            ).addTo(map_dce47e1ed5d293c6678f58d0a2182ac2);\n",
              "        \n",
              "    \n",
              "        var popup_4c2c169475102b1f3a76c2de3636ab59 = L.popup({\n",
              "  &quot;maxWidth&quot;: &quot;100%&quot;,\n",
              "});\n",
              "\n",
              "        \n",
              "            \n",
              "                var html_e69226a32bd000d773e935a9dcd51da7 = $(`&lt;div id=&quot;html_e69226a32bd000d773e935a9dcd51da7&quot; style=&quot;width: 100.0%; height: 100.0%;&quot;&gt;/content/drive/MyDrive/example_dataset/IMG_0172.HEIC&lt;/div&gt;`)[0];\n",
              "                popup_4c2c169475102b1f3a76c2de3636ab59.setContent(html_e69226a32bd000d773e935a9dcd51da7);\n",
              "            \n",
              "        \n",
              "\n",
              "        marker_ed843c74c19c2b50685b25f2f1f260ff.bindPopup(popup_4c2c169475102b1f3a76c2de3636ab59)\n",
              "        ;\n",
              "\n",
              "        \n",
              "    \n",
              "    \n",
              "            var marker_f81bae807f109161b2308f251dbd3024 = L.marker(\n",
              "                [37.42997777777777, -122.16938888888889],\n",
              "                {\n",
              "}\n",
              "            ).addTo(map_dce47e1ed5d293c6678f58d0a2182ac2);\n",
              "        \n",
              "    \n",
              "        var popup_5e8aca99db1d29ab0ecec510b1a55414 = L.popup({\n",
              "  &quot;maxWidth&quot;: &quot;100%&quot;,\n",
              "});\n",
              "\n",
              "        \n",
              "            \n",
              "                var html_5d99d3aa9cd469b6c9dcc64674e4ef44 = $(`&lt;div id=&quot;html_5d99d3aa9cd469b6c9dcc64674e4ef44&quot; style=&quot;width: 100.0%; height: 100.0%;&quot;&gt;/content/drive/MyDrive/example_dataset/IMG_3095.HEIC&lt;/div&gt;`)[0];\n",
              "                popup_5e8aca99db1d29ab0ecec510b1a55414.setContent(html_5d99d3aa9cd469b6c9dcc64674e4ef44);\n",
              "            \n",
              "        \n",
              "\n",
              "        marker_f81bae807f109161b2308f251dbd3024.bindPopup(popup_5e8aca99db1d29ab0ecec510b1a55414)\n",
              "        ;\n",
              "\n",
              "        \n",
              "    \n",
              "    \n",
              "            var marker_28c9a030538ac9e07977240b985363e2 = L.marker(\n",
              "                [38.54602777777777, -122.49227777777777],\n",
              "                {\n",
              "}\n",
              "            ).addTo(map_dce47e1ed5d293c6678f58d0a2182ac2);\n",
              "        \n",
              "    \n",
              "        var popup_21d685044ffd842b6dc81870ff9f84bd = L.popup({\n",
              "  &quot;maxWidth&quot;: &quot;100%&quot;,\n",
              "});\n",
              "\n",
              "        \n",
              "            \n",
              "                var html_aa6e15407cdfe5c7caab713a49826df4 = $(`&lt;div id=&quot;html_aa6e15407cdfe5c7caab713a49826df4&quot; style=&quot;width: 100.0%; height: 100.0%;&quot;&gt;/content/drive/MyDrive/example_dataset/IMG_3167.HEIC&lt;/div&gt;`)[0];\n",
              "                popup_21d685044ffd842b6dc81870ff9f84bd.setContent(html_aa6e15407cdfe5c7caab713a49826df4);\n",
              "            \n",
              "        \n",
              "\n",
              "        marker_28c9a030538ac9e07977240b985363e2.bindPopup(popup_21d685044ffd842b6dc81870ff9f84bd)\n",
              "        ;\n",
              "\n",
              "        \n",
              "    \n",
              "    \n",
              "            var marker_3a979363fb980316d3286862594c22ce = L.marker(\n",
              "                [37.810827777777774, -122.411575],\n",
              "                {\n",
              "}\n",
              "            ).addTo(map_dce47e1ed5d293c6678f58d0a2182ac2);\n",
              "        \n",
              "    \n",
              "        var popup_3aa4e801a808d71ccb19a5fdae098995 = L.popup({\n",
              "  &quot;maxWidth&quot;: &quot;100%&quot;,\n",
              "});\n",
              "\n",
              "        \n",
              "            \n",
              "                var html_09b0599883c84ff1017bcf19ae090155 = $(`&lt;div id=&quot;html_09b0599883c84ff1017bcf19ae090155&quot; style=&quot;width: 100.0%; height: 100.0%;&quot;&gt;/content/drive/MyDrive/example_dataset/IMG_3234.HEIC&lt;/div&gt;`)[0];\n",
              "                popup_3aa4e801a808d71ccb19a5fdae098995.setContent(html_09b0599883c84ff1017bcf19ae090155);\n",
              "            \n",
              "        \n",
              "\n",
              "        marker_3a979363fb980316d3286862594c22ce.bindPopup(popup_3aa4e801a808d71ccb19a5fdae098995)\n",
              "        ;\n",
              "\n",
              "        \n",
              "    \n",
              "&lt;/script&gt;\n",
              "&lt;/html&gt;\" style=\"position:absolute;width:100%;height:100%;left:0;top:0;border:none !important;\" allowfullscreen webkitallowfullscreen mozallowfullscreen></iframe></div></div>"
            ]
          },
          "metadata": {},
          "execution_count": 20
        }
      ]
    }
  ],
  "metadata": {
    "colab": {
      "provenance": []
    },
    "kernelspec": {
      "display_name": "Python 3",
      "name": "python3"
    },
    "language_info": {
      "name": "python"
    }
  },
  "nbformat": 4,
  "nbformat_minor": 0
}