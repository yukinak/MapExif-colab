{
  "cells": [
    {
      "cell_type": "markdown",
      "metadata": {
        "id": "6_crycDGlI2V"
      },
      "source": [
        "# MapEXIF-Colab\n",
        "In Google Colab, read the EXIF information (GPS data) of images stored in a specific folder and visualize it on a map."
      ]
    },
    {
      "cell_type": "markdown",
      "metadata": {
        "id": "NgexBs6rmtdE"
      },
      "source": [
        "## Mount google drive"
      ]
    },
    {
      "cell_type": "code",
      "execution_count": 1,
      "metadata": {
        "colab": {
          "base_uri": "https://localhost:8080/"
        },
        "id": "ODKNVVmZk0wk",
        "outputId": "123b4662-e559-4497-a1e2-7a4b3fa87594"
      },
      "outputs": [
        {
          "name": "stdout",
          "output_type": "stream",
          "text": [
            "Mounted at /content/drive\n"
          ]
        }
      ],
      "source": [
        "from google.colab import drive\n",
        "drive.mount('/content/drive')"
      ]
    },
    {
      "cell_type": "markdown",
      "metadata": {},
      "source": []
    },
    {
      "cell_type": "code",
      "execution_count": 2,
      "metadata": {
        "colab": {
          "base_uri": "https://localhost:8080/"
        },
        "id": "Z6dBvIpblYi0",
        "outputId": "dd19c68b-bb98-4ced-e5b3-a28566105901"
      },
      "outputs": [
        {
          "name": "stdout",
          "output_type": "stream",
          "text": [
            "Requirement already satisfied: folium in /usr/local/lib/python3.12/dist-packages (0.20.0)\n",
            "Requirement already satisfied: branca>=0.6.0 in /usr/local/lib/python3.12/dist-packages (from folium) (0.8.1)\n",
            "Requirement already satisfied: jinja2>=2.9 in /usr/local/lib/python3.12/dist-packages (from folium) (3.1.6)\n",
            "Requirement already satisfied: numpy in /usr/local/lib/python3.12/dist-packages (from folium) (2.0.2)\n",
            "Requirement already satisfied: requests in /usr/local/lib/python3.12/dist-packages (from folium) (2.32.4)\n",
            "Requirement already satisfied: xyzservices in /usr/local/lib/python3.12/dist-packages (from folium) (2025.4.0)\n",
            "Requirement already satisfied: MarkupSafe>=2.0 in /usr/local/lib/python3.12/dist-packages (from jinja2>=2.9->folium) (3.0.2)\n",
            "Requirement already satisfied: charset_normalizer<4,>=2 in /usr/local/lib/python3.12/dist-packages (from requests->folium) (3.4.3)\n",
            "Requirement already satisfied: idna<4,>=2.5 in /usr/local/lib/python3.12/dist-packages (from requests->folium) (3.10)\n",
            "Requirement already satisfied: urllib3<3,>=1.21.1 in /usr/local/lib/python3.12/dist-packages (from requests->folium) (2.5.0)\n",
            "Requirement already satisfied: certifi>=2017.4.17 in /usr/local/lib/python3.12/dist-packages (from requests->folium) (2025.8.3)\n",
            "Collecting exifread==2.3.2\n",
            "  Downloading ExifRead-2.3.2-py3-none-any.whl.metadata (6.2 kB)\n",
            "Downloading ExifRead-2.3.2-py3-none-any.whl (38 kB)\n",
            "Installing collected packages: exifread\n",
            "Successfully installed exifread-2.3.2\n",
            "Collecting japanize-matplotlib\n",
            "  Downloading japanize-matplotlib-1.1.3.tar.gz (4.1 MB)\n",
            "\u001b[2K     \u001b[90m━━━━━━━━━━━━━━━━━━━━━━━━━━━━━━━━━━━━━━━━\u001b[0m \u001b[32m4.1/4.1 MB\u001b[0m \u001b[31m39.4 MB/s\u001b[0m eta \u001b[36m0:00:00\u001b[0m\n",
            "\u001b[?25h  Preparing metadata (setup.py) ... \u001b[?25l\u001b[?25hdone\n",
            "Requirement already satisfied: matplotlib in /usr/local/lib/python3.12/dist-packages (from japanize-matplotlib) (3.10.0)\n",
            "Requirement already satisfied: contourpy>=1.0.1 in /usr/local/lib/python3.12/dist-packages (from matplotlib->japanize-matplotlib) (1.3.3)\n",
            "Requirement already satisfied: cycler>=0.10 in /usr/local/lib/python3.12/dist-packages (from matplotlib->japanize-matplotlib) (0.12.1)\n",
            "Requirement already satisfied: fonttools>=4.22.0 in /usr/local/lib/python3.12/dist-packages (from matplotlib->japanize-matplotlib) (4.59.2)\n",
            "Requirement already satisfied: kiwisolver>=1.3.1 in /usr/local/lib/python3.12/dist-packages (from matplotlib->japanize-matplotlib) (1.4.9)\n",
            "Requirement already satisfied: numpy>=1.23 in /usr/local/lib/python3.12/dist-packages (from matplotlib->japanize-matplotlib) (2.0.2)\n",
            "Requirement already satisfied: packaging>=20.0 in /usr/local/lib/python3.12/dist-packages (from matplotlib->japanize-matplotlib) (25.0)\n",
            "Requirement already satisfied: pillow>=8 in /usr/local/lib/python3.12/dist-packages (from matplotlib->japanize-matplotlib) (11.3.0)\n",
            "Requirement already satisfied: pyparsing>=2.3.1 in /usr/local/lib/python3.12/dist-packages (from matplotlib->japanize-matplotlib) (3.2.3)\n",
            "Requirement already satisfied: python-dateutil>=2.7 in /usr/local/lib/python3.12/dist-packages (from matplotlib->japanize-matplotlib) (2.9.0.post0)\n",
            "Requirement already satisfied: six>=1.5 in /usr/local/lib/python3.12/dist-packages (from python-dateutil>=2.7->matplotlib->japanize-matplotlib) (1.17.0)\n",
            "Building wheels for collected packages: japanize-matplotlib\n",
            "  Building wheel for japanize-matplotlib (setup.py) ... \u001b[?25l\u001b[?25hdone\n",
            "  Created wheel for japanize-matplotlib: filename=japanize_matplotlib-1.1.3-py3-none-any.whl size=4120257 sha256=81cef161611107315f96dab7304e8ae0604de8a097fa042133010fa9c054825c\n",
            "  Stored in directory: /root/.cache/pip/wheels/c1/f7/9b/418f19a7b9340fc16e071e89efc379aca68d40238b258df53d\n",
            "Successfully built japanize-matplotlib\n",
            "Installing collected packages: japanize-matplotlib\n",
            "Successfully installed japanize-matplotlib-1.1.3\n"
          ]
        }
      ],
      "source": [
        "\n",
        "!pip install folium\n",
        "!pip install exifread==2.3.2\n",
        "!pip install japanize-matplotlib"
      ]
    },
    {
      "cell_type": "markdown",
      "metadata": {
        "id": "Jl--R1DXpnIb"
      },
      "source": [
        "## A function to extract location information from the EXIF data of images taken with an iPhone"
      ]
    },
    {
      "cell_type": "code",
      "execution_count": null,
      "metadata": {
        "id": "p8lDRuqRnTnd"
      },
      "outputs": [],
      "source": [
        "import exifread\n",
        "\n",
        "def read_exif_from_image(image_path):\n",
        "    \"\"\"Read EXIF data from an image file\"\"\"\n",
        "    try:\n",
        "        with open(image_path, \"rb\") as f:\n",
        "            exif_data = exifread.process_file(f)\n",
        "        return exif_data\n",
        "    except FileNotFoundError:\n",
        "        print(f\"File not found: {image_path}\")\n",
        "        return None\n",
        "    except IOError:\n",
        "        print(f\"Failed to read file: {image_path}\")\n",
        "        return None\n",
        "\n",
        "\n",
        "def dms_to_decimal(dms):\n",
        "    \"\"\"Convert a Degree-Minute-Second (DMS) list to decimal coordinates\"\"\"\n",
        "    degrees, minutes, seconds = dms\n",
        "    return degrees + (minutes / 60) + (seconds / 3600)\n",
        "\n",
        "\n",
        "def get_coordinates(exif_data):\n",
        "    \"\"\"Extract latitude and longitude from EXIF tags and return them as a tuple\"\"\"\n",
        "    try:\n",
        "        pre_latitude = eval(exif_data[\"GPS GPSLatitude\"].printable)\n",
        "        pre_longitude = eval(exif_data[\"GPS GPSLongitude\"].printable)\n",
        "        latitude = dms_to_decimal(pre_latitude)\n",
        "        longitude = dms_to_decimal(pre_longitude)\n",
        "        return (latitude, longitude)\n",
        "    except KeyError:\n",
        "        print(\"Required GPS information is missing.\")\n",
        "        return None"
      ]
    },
    {
      "cell_type": "code",
      "execution_count": null,
      "metadata": {
        "id": "TD8gwnqyRNnH"
      },
      "outputs": [],
      "source": [
        "import glob\n",
        "import os\n",
        "import numpy as np\n",
        "\n",
        "# Extract GPS coordinates from HEIC images in the directory\n",
        "img_directory = '/content/drive/MyDrive/experiment/picture2025/'\n",
        "gps_pos = []\n",
        "name_list = []\n",
        "location_list = []\n",
        "altitude_list = []\n",
        "for image_path in sorted(\n",
        "    glob.glob(os.path.join(img_directory, '*.HEIC'))):\n",
        "\n",
        "    exif_data = read_exif_from_image(image_path)\n",
        "    if exif_data:\n",
        "        coordinates = get_coordinates(exif_data)\n",
        "        altitude = get_altitude(exif_data)\n",
        "        if coordinates:\n",
        "            basename_without_ext = os.path.splitext(os.path.basename(image_path))[0]    # File name\n",
        "            location_list.append(coordinates)\n",
        "            altitude_list.append(altitude)\n",
        "            name_list.append(basename_without_ext)\n",
        "        else:\n",
        "            print(\"Failed to retrieve GPS information.\")\n",
        "    else:\n",
        "        print(\"Failed to read EXIF data.\")\n",
        "\n",
        "# Output file name and GPS coordinates\n",
        "i = 0\n",
        "dist = 0\n",
        "cum_dist_list = []\n",
        "total_dist = 0\n",
        "latlon1 = []\n",
        "latlon2 = []\n",
        "for name, location, alt in zip(name_list, location_list, altitude_list):\n",
        "    latlon1 = latlon2\n",
        "    latlon2 = location\n",
        "    print(\"FILE:%s, LAT:%.5f LON:%.5f\" %\n",
        "          (name, location[0], location[1]))"
      ]
    }
  ],
  "metadata": {
    "colab": {
      "provenance": []
    },
    "kernelspec": {
      "display_name": "Python 3",
      "name": "python3"
    },
    "language_info": {
      "name": "python"
    }
  },
  "nbformat": 4,
  "nbformat_minor": 0
}
